{
 "cells": [
  {
   "cell_type": "markdown",
   "id": "6d141fb0",
   "metadata": {},
   "source": [
    "## 01) A company decided to give bonus of 5% to employee if his/her year of service is more than 5 years. Ask user for their salary and year of service and print the net bonus amount."
   ]
  },
  {
   "cell_type": "code",
   "execution_count": 3,
   "id": "cd51da03",
   "metadata": {},
   "outputs": [
    {
     "name": "stdout",
     "output_type": "stream",
     "text": [
      "Enter your Years of Service5\n",
      "Enter your Salary100000\n",
      "Your Bonus is 5000.0\n"
     ]
    }
   ],
   "source": [
    "service_year = int(input(\"Enter your Years of Service \"))\n",
    "if (service_year >= 5):\n",
    "    salary = int(input(\"Enter your Salary \"))\n",
    "    bonus = salary / 100 * 5\n",
    "    print(f\"Your Bonus is {bonus}\")\n",
    "else:\n",
    "    print(\"Sorry, You are not eligible for Bonus\")"
   ]
  },
  {
   "cell_type": "markdown",
   "id": "50036cda",
   "metadata": {},
   "source": [
    "## 2) Write a program to check whether a person is eligible for voting or not. (accept age from user) if age is greater than 17 eligible otherwise not eligible"
   ]
  },
  {
   "cell_type": "code",
   "execution_count": 5,
   "id": "068fdf0c",
   "metadata": {},
   "outputs": [
    {
     "name": "stdout",
     "output_type": "stream",
     "text": [
      "Enter your Age19\n",
      "You are eligible to Vote\n"
     ]
    }
   ],
   "source": [
    "age = int(input(\"Enter your Age \"))\n",
    "if age < 18:\n",
    "    print(\"You are not eligible to Vote\")\n",
    "else:\n",
    "    print(\"You are eligible to Vote\")"
   ]
  },
  {
   "cell_type": "markdown",
   "id": "b164ad86",
   "metadata": {},
   "source": [
    "## 3) Write a program to check whether a number entered by user is even or odd."
   ]
  },
  {
   "cell_type": "code",
   "execution_count": 7,
   "id": "dab19837",
   "metadata": {},
   "outputs": [
    {
     "name": "stdout",
     "output_type": "stream",
     "text": [
      "Enter a Number8\n",
      "Number is Even\n"
     ]
    }
   ],
   "source": [
    "nbr = int(input(\"Enter a Number \"))\n",
    "nbr = nbr % 2\n",
    "if nbr == 0:\n",
    "    print(\"Number is Even\")\n",
    "else:\n",
    "    print(\"Number is Odd\")"
   ]
  },
  {
   "cell_type": "markdown",
   "id": "57356420",
   "metadata": {},
   "source": [
    "## 4) Write a program to check whether a number is divisible by 7 or not. Show Answer"
   ]
  },
  {
   "cell_type": "code",
   "execution_count": 14,
   "id": "28f2abc5",
   "metadata": {},
   "outputs": [
    {
     "name": "stdout",
     "output_type": "stream",
     "text": [
      "Enter a Number70\n",
      "Number is divisible by 7\n"
     ]
    }
   ],
   "source": [
    "nbr = int(input(\"Enter a Number \"))\n",
    "nbr = nbr % 7\n",
    "if nbr == 0:\n",
    "    print(\"Number is divisible by 7\")\n",
    "else:\n",
    "    print(\"Number is not divisible by 7\")"
   ]
  },
  {
   "cell_type": "markdown",
   "id": "5c72fc72",
   "metadata": {},
   "source": [
    "## 5) Write a program to display \"Hello\" if a number entered by user is a multiple of five , otherwise print \"Bye\"."
   ]
  },
  {
   "cell_type": "code",
   "execution_count": 2,
   "id": "ee80dcc6",
   "metadata": {},
   "outputs": [
    {
     "name": "stdout",
     "output_type": "stream",
     "text": [
      "Enter a Number 10\n",
      "Hello\n"
     ]
    }
   ],
   "source": [
    "nbr = int(input(\"Enter a Number \"))\n",
    "nbr = nbr % 5\n",
    "if nbr == 0:\n",
    "    print(\"Hello\")\n",
    "else:\n",
    "    print(\"Bye\")"
   ]
  },
  {
   "cell_type": "markdown",
   "id": "16177b1a-3a23-41e5-a6e3-014fd339219a",
   "metadata": {},
   "source": [
    "## 6) Write a program to calculate the electricity bill (accept number of unit from user) according to the following criteria : Unit Price\n",
    "## uptp 100 units no charge Next 200 units Rs 5 per unit After 200 units Rs 10 per unit (For example if input unit is 350 than total bill amount is\n",
    "## Rs.3500 (For example if input unit is 97 than total bill amount is Rs.0 (For example if input unit is 150 than total bill amount is Rs.750"
   ]
  },
  {
   "cell_type": "code",
   "execution_count": 1,
   "id": "001ab6b9-c62e-4c66-b900-183fa049c115",
   "metadata": {},
   "outputs": [
    {
     "name": "stdin",
     "output_type": "stream",
     "text": [
      "Enter Single unit price:  12\n",
      "Enter total unit:  18\n"
     ]
    },
    {
     "name": "stdout",
     "output_type": "stream",
     "text": [
      "216\n"
     ]
    }
   ],
   "source": [
    "price = int(input(\"Enter Single unit price: \"))\n",
    "unit = int(input(\"Enter total unit: \"))\n",
    "\n",
    "if unit <= 100:\n",
    "    total = unit * price\n",
    "    print(total)\n",
    "elif unit <= 200:\n",
    "    tax = price + 5\n",
    "    total = unit * tax\n",
    "    print(total)\n",
    "else:\n",
    "    tax = price + 10\n",
    "    total = unit * tax\n",
    "    print(total)"
   ]
  },
  {
   "cell_type": "markdown",
   "id": "e33f62f2",
   "metadata": {},
   "source": [
    "## 7) Write a program to display the last digit of a number."
   ]
  },
  {
   "cell_type": "code",
   "execution_count": 6,
   "id": "c4db6ab6",
   "metadata": {},
   "outputs": [
    {
     "name": "stdout",
     "output_type": "stream",
     "text": [
      "Enter a Number 9635\n",
      "5\n"
     ]
    }
   ],
   "source": [
    "nbr = int(input(\"Enter a Number \"))\n",
    "nbr = nbr % 10\n",
    "print(nbr)"
   ]
  },
  {
   "cell_type": "markdown",
   "id": "42e46d29",
   "metadata": {},
   "source": [
    "## Q8. Write a program to check whether the last digit of a number( entered by user ) is divisible by 3 or not."
   ]
  },
  {
   "cell_type": "code",
   "execution_count": 2,
   "id": "b5726e6a",
   "metadata": {},
   "outputs": [
    {
     "name": "stdout",
     "output_type": "stream",
     "text": [
      "Enter a Number 5\n",
      "last digit of a number is not divisible by 3\n"
     ]
    }
   ],
   "source": [
    "nbr = int(input(\"Enter a Number \"))\n",
    "last_nbr = nbr % 10\n",
    "last_nbr = last_nbr % 3\n",
    "if last_nbr == 0:\n",
    "    print(\"last digit of a number is divisible by 3\")\n",
    "else:\n",
    "     print(\"last digit of a number is not divisible by 3\")"
   ]
  },
  {
   "cell_type": "markdown",
   "id": "f5573a55",
   "metadata": {},
   "source": [
    "## 9) Take values of length and breadth of a rectangle from user and print if it is square or rectangle."
   ]
  },
  {
   "cell_type": "code",
   "execution_count": null,
   "id": "a7ba252f",
   "metadata": {},
   "outputs": [],
   "source": [
    "hght = int(input(\"Enter the Height: \"))\n",
    "wdth = int(input(\"Enter the Width: \"))\n",
    "\n",
    "if hght == wdth:\n",
    "    print(\"This is a Square\")\n",
    "else:\n",
    "    print(\"This is a Rectangle\")"
   ]
  },
  {
   "cell_type": "markdown",
   "id": "2e3286e3",
   "metadata": {},
   "source": [
    "## 10) Take two int values from user and print greatest among them."
   ]
  },
  {
   "cell_type": "code",
   "execution_count": null,
   "id": "c8d9711d",
   "metadata": {},
   "outputs": [],
   "source": [
    "vlu1 = int(input(\"Enter 1st Value: \"))\n",
    "vlu2 = int(input(\"Enter 2nd Value: \"))\n",
    "if vlu1 > vlu2:\n",
    "    print(vlu1)\n",
    "else:\n",
    "    print(vlu2)"
   ]
  },
  {
   "cell_type": "markdown",
   "id": "acd92aab",
   "metadata": {},
   "source": [
    "## 11) A shop will give discount of 10% if the cost of purchased quantity is more than 1000. Ask user for quantity Suppose, one unit will cost 100. Judge and print total cost for user."
   ]
  },
  {
   "cell_type": "code",
   "execution_count": null,
   "id": "08e7fbba",
   "metadata": {},
   "outputs": [],
   "source": [
    "prce = int(input(\"Enter the Price \"))\n",
    "if prce >= 1000:\n",
    "    ds = prce / 100 * 10\n",
    "    dsprice = prce - ds\n",
    "    print(dsprice)\n",
    "else:\n",
    "    print(prce)"
   ]
  },
  {
   "cell_type": "markdown",
   "id": "36e13d66-109e-4453-816a-2d1217fa45cc",
   "metadata": {},
   "source": [
    "## 12) A school has following rules for grading system"
   ]
  },
  {
   "cell_type": "code",
   "execution_count": 2,
   "id": "550b8969-5cce-49e4-9c82-e691b973058c",
   "metadata": {},
   "outputs": [
    {
     "name": "stdin",
     "output_type": "stream",
     "text": [
      "Enter Your Marks  60\n"
     ]
    },
    {
     "name": "stdout",
     "output_type": "stream",
     "text": [
      "Your Grade is C\n"
     ]
    }
   ],
   "source": [
    "mrks = int(input(\"Enter Your Marks \"))\n",
    "if mrks > 80:\n",
    "    print(\"Your Grade is A\")\n",
    "elif mrks > 60:\n",
    "    print(\"Your Grade is B\")\n",
    "elif mrks > 50:\n",
    "    print(\"Your Grade is C\")\n",
    "elif mrks > 45:\n",
    "    print(\"Your Grade is D\")\n",
    "elif mrks > 25:\n",
    "    print(\"Your Grade is E\")\n",
    "else:\n",
    "    print(\"Your Grade is F\")"
   ]
  },
  {
   "cell_type": "markdown",
   "id": "40d2dfe4-4b34-4588-a4b9-a0a0057e33af",
   "metadata": {},
   "source": [
    "## 13) Take input of age of 3 people by user and determine oldest and youngest among them."
   ]
  },
  {
   "cell_type": "code",
   "execution_count": 2,
   "id": "3dbac8a4-413e-4e6c-86c9-817a65ed96ac",
   "metadata": {},
   "outputs": [
    {
     "name": "stdin",
     "output_type": "stream",
     "text": [
      "Enter age of person 1:  10\n",
      "Enter age of person 2:  15\n",
      "Enter age of person 3:  20\n"
     ]
    },
    {
     "name": "stdout",
     "output_type": "stream",
     "text": [
      "The oldest person is 20 years old.\n",
      "The youngest person is 10 years old.\n"
     ]
    }
   ],
   "source": [
    "age1 = int(input(\"Enter age of person 1: \"))\n",
    "age2 = int(input(\"Enter age of person 2: \"))\n",
    "age3 = int(input(\"Enter age of person 3: \"))\n",
    "\n",
    "if age1 >= age2:\n",
    "    if age1 >= age3:\n",
    "        oldest = age1\n",
    "    else:\n",
    "        oldest = age3\n",
    "else:\n",
    "    if age2 >= age3:\n",
    "        oldest = age2\n",
    "    else:\n",
    "        oldest = age3\n",
    "\n",
    "if age1 <= age2:\n",
    "    if age1 <= age3:\n",
    "        youngest = age1\n",
    "    else:\n",
    "        youngest = age3\n",
    "else:\n",
    "    if age2 <= age3:\n",
    "        youngest = age2\n",
    "    else:\n",
    "        youngest = age3\n",
    "\n",
    "print(f\"The oldest person is {oldest} years old.\")\n",
    "print(f\"The youngest person is {youngest} years old.\")"
   ]
  },
  {
   "cell_type": "markdown",
   "id": "24be3824-5f73-4e1d-b923-2141ea5f8890",
   "metadata": {},
   "source": [
    "## 14)A student will not be allowed to sit in exam if his/her attendence is less than 75%.\n",
    "## Take following input from user\n",
    "## Number of classes held\n",
    "## Number of classes attended.\n",
    "## And print\n",
    "## percentage of class attended\n",
    "## Is student is allowed to sit in exam or not"
   ]
  },
  {
   "cell_type": "code",
   "execution_count": 3,
   "id": "562ae65c-ac21-4f7b-bc16-e8366c6d5e4f",
   "metadata": {},
   "outputs": [
    {
     "name": "stdin",
     "output_type": "stream",
     "text": [
      "Enter Number of classes held:  50\n",
      "Number of classes attended:  60\n"
     ]
    },
    {
     "name": "stdout",
     "output_type": "stream",
     "text": [
      "Your attendance percentage is: 120.0%\n",
      "You are allowed to sit in exam.\n"
     ]
    }
   ],
   "source": [
    "class_held = int(input(\"Enter Number of classes held: \"))\n",
    "class_attended = int(input(\"Number of classes attended: \"))\n",
    "\n",
    "attendpercentage = (class_attended / class_held) * 100\n",
    "\n",
    "print(f\"Your attendance percentage is: {attendpercentage}%\")\n",
    "\n",
    "if attendpercentage >= 75:\n",
    "    print(\"You are allowed to sit in exam.\")\n",
    "else:\n",
    "    print(\"You are not allowed to sit in exam.\")"
   ]
  },
  {
   "cell_type": "markdown",
   "id": "58f76014-e9ba-43d0-813d-7cd029fe758e",
   "metadata": {},
   "source": [
    "## 15) Modify the above question to allow student to sit if he/she has medical cause. Ask user if he/she has medical cause or not ( 'Y' or 'N' ) and print accordingly."
   ]
  },
  {
   "cell_type": "code",
   "execution_count": 4,
   "id": "5e1294aa-917a-4f34-b0ba-99b150008f7b",
   "metadata": {},
   "outputs": [
    {
     "name": "stdin",
     "output_type": "stream",
     "text": [
      "Enter Number of classes held:  6\n",
      "Number of classes attended:  6\n"
     ]
    },
    {
     "name": "stdout",
     "output_type": "stream",
     "text": [
      "Your attendance percentage is: 100.0%\n",
      "You are allowed to sit in exam.\n"
     ]
    }
   ],
   "source": [
    "class_held = int(input(\"Enter Number of classes held: \"))\n",
    "class_attended = int(input(\"Number of classes attended: \"))\n",
    "\n",
    "attendpercentage = (class_attended / class_held) * 100\n",
    "\n",
    "print(f\"Your attendance percentage is: {attendpercentage}%\")\n",
    "\n",
    "if attendpercentage >= 75:\n",
    "    print(\"You are allowed to sit in exam.\")\n",
    "else:\n",
    "    reson = input(\"Do you have any medical issue:\")\n",
    "    if reson == \"y\":\n",
    "        print(\"You are allowed to sit in exam.\")\n",
    "    elif reson == \"n\":\n",
    "        print(\"You are not allowed to sit in exam.\")\n",
    "    else:\n",
    "        print(\"Error! Run the program again and just type y/n\")"
   ]
  },
  {
   "cell_type": "markdown",
   "id": "50f08aa0-7a7c-4f2d-a6c7-df0628a3d0e4",
   "metadata": {},
   "source": [
    "## 16) Write a program to check if a year is leap year or not.\n",
    "## If a year is divisible by 4 then it is leap year but if the year is century year like 2000, 1900, 2100 then it must be divisible by 400."
   ]
  },
  {
   "cell_type": "code",
   "execution_count": 5,
   "id": "19c34beb-8219-463d-8484-04627ea3156d",
   "metadata": {},
   "outputs": [
    {
     "name": "stdin",
     "output_type": "stream",
     "text": [
      "Enter a year:  65\n"
     ]
    },
    {
     "name": "stdout",
     "output_type": "stream",
     "text": [
      "65 is not a leap year.\n"
     ]
    }
   ],
   "source": [
    "year = int(input(\"Enter a year: \"))\n",
    "\n",
    "if year % 4 == 0:\n",
    "    if year % 100 == 0:\n",
    "        if year % 400 == 0:\n",
    "            print(f\"{year} is a leap year.\")\n",
    "        else:\n",
    "            print(f\"{year} is not a leap year.\")\n",
    "    else:\n",
    "        print(f\"{year} is a leap year.\")\n",
    "else:\n",
    "    print(f\"{year} is not a leap year.\")"
   ]
  },
  {
   "cell_type": "markdown",
   "id": "a52eece3-66f7-4bcf-909b-cd7a8db346f9",
   "metadata": {},
   "source": [
    "## 17) Ask user to enter age, gender ( M or F ), marital status ( Y or N ) and then using following rules print their place of service.\n",
    "## if employee is female, then she will work only in urban areas.\n",
    "## if employee is a male and age is in between 20 to 40 then he may work in anywhere\n",
    "## if employee is male and age is in between 40 t0 60 then he will work in urban areas only.\n",
    "## And any other input of age should print \"ERROR\""
   ]
  },
  {
   "cell_type": "code",
   "execution_count": 6,
   "id": "312b721e-e8a0-437e-8c49-bc5c3586050a",
   "metadata": {},
   "outputs": [
    {
     "name": "stdin",
     "output_type": "stream",
     "text": [
      "Enter your Gander:  F\n"
     ]
    },
    {
     "name": "stdout",
     "output_type": "stream",
     "text": [
      "you can work only in urban areas\n"
     ]
    }
   ],
   "source": [
    "gander = input(\"Enter your Gander: \")\n",
    "\n",
    "if gander == \"F\":\n",
    "    print (\"you can work only in urban areas\")\n",
    "elif gander == \"M\":\n",
    "    age = int(input(\"Enter Your Age: \"))\n",
    "    if age > 60:\n",
    "        print(\"Error!\")\n",
    "    elif age >= 40:\n",
    "        print(\" you can work in urban areas only\")\n",
    "    elif age >= 20:\n",
    "        print(\"you can work in anywhere\")\n",
    "    else:\n",
    "        print(\"Error!\")\n",
    "else:\n",
    "     print(\"Error! Run the program again and just type F/M\")"
   ]
  }
 ],
 "metadata": {
  "kernelspec": {
   "display_name": "Python 3 (ipykernel)",
   "language": "python",
   "name": "python3"
  },
  "language_info": {
   "codemirror_mode": {
    "name": "ipython",
    "version": 3
   },
   "file_extension": ".py",
   "mimetype": "text/x-python",
   "name": "python",
   "nbconvert_exporter": "python",
   "pygments_lexer": "ipython3",
   "version": "3.11.5"
  }
 },
 "nbformat": 4,
 "nbformat_minor": 5
}
