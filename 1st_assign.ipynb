{
 "cells": [
  {
   "cell_type": "markdown",
   "id": "6d141fb0",
   "metadata": {},
   "source": [
    "## 01) A company decided to give bonus of 5% to employee if his/her year of service is more than 5 years. Ask user for their salary and year of service and print the net bonus amount."
   ]
  },
  {
   "cell_type": "code",
   "execution_count": 3,
   "id": "cd51da03",
   "metadata": {},
   "outputs": [
    {
     "name": "stdout",
     "output_type": "stream",
     "text": [
      "Enter your Years of Service5\n",
      "Enter your Salary100000\n",
      "Your Bonus is 5000.0\n"
     ]
    }
   ],
   "source": [
    "service_year = int(input(\"Enter your Years of Service \"))\n",
    "if (service_year >= 5):\n",
    "    salary = int(input(\"Enter your Salary \"))\n",
    "    bonus = salary / 100 * 5\n",
    "    print(f\"Your Bonus is {bonus}\")\n",
    "else:\n",
    "    print(\"Sorry, You are not eligible for Bonus\")"
   ]
  },
  {
   "cell_type": "markdown",
   "id": "50036cda",
   "metadata": {},
   "source": [
    "## 2) Write a program to check whether a person is eligible for voting or not. (accept age from user) if age is greater than 17 eligible otherwise not eligible"
   ]
  },
  {
   "cell_type": "code",
   "execution_count": 5,
   "id": "068fdf0c",
   "metadata": {},
   "outputs": [
    {
     "name": "stdout",
     "output_type": "stream",
     "text": [
      "Enter your Age19\n",
      "You are eligible to Vote\n"
     ]
    }
   ],
   "source": [
    "age = int(input(\"Enter your Age \"))\n",
    "if age < 18:\n",
    "    print(\"You are not eligible to Vote\")\n",
    "else:\n",
    "    print(\"You are eligible to Vote\")"
   ]
  },
  {
   "cell_type": "markdown",
   "id": "b164ad86",
   "metadata": {},
   "source": [
    "## 3) Write a program to check whether a number entered by user is even or odd."
   ]
  },
  {
   "cell_type": "code",
   "execution_count": 7,
   "id": "dab19837",
   "metadata": {},
   "outputs": [
    {
     "name": "stdout",
     "output_type": "stream",
     "text": [
      "Enter a Number8\n",
      "Number is Even\n"
     ]
    }
   ],
   "source": [
    "nbr = int(input(\"Enter a Number \"))\n",
    "nbr = nbr % 2\n",
    "if nbr == 0:\n",
    "    print(\"Number is Even\")\n",
    "else:\n",
    "    print(\"Number is Odd\")"
   ]
  },
  {
   "cell_type": "markdown",
   "id": "57356420",
   "metadata": {},
   "source": [
    "## 4) Write a program to check whether a number is divisible by 7 or not. Show Answer"
   ]
  },
  {
   "cell_type": "code",
   "execution_count": 14,
   "id": "28f2abc5",
   "metadata": {},
   "outputs": [
    {
     "name": "stdout",
     "output_type": "stream",
     "text": [
      "Enter a Number70\n",
      "Number is divisible by 7\n"
     ]
    }
   ],
   "source": [
    "nbr = int(input(\"Enter a Number \"))\n",
    "nbr = nbr % 7\n",
    "if nbr == 0:\n",
    "    print(\"Number is divisible by 7\")\n",
    "else:\n",
    "    print(\"Number is not divisible by 7\")"
   ]
  },
  {
   "cell_type": "code",
   "execution_count": null,
   "id": "c822456c",
   "metadata": {},
   "outputs": [],
   "source": []
  }
 ],
 "metadata": {
  "kernelspec": {
   "display_name": "Python 3 (ipykernel)",
   "language": "python",
   "name": "python3"
  },
  "language_info": {
   "codemirror_mode": {
    "name": "ipython",
    "version": 3
   },
   "file_extension": ".py",
   "mimetype": "text/x-python",
   "name": "python",
   "nbconvert_exporter": "python",
   "pygments_lexer": "ipython3",
   "version": "3.11.5"
  }
 },
 "nbformat": 4,
 "nbformat_minor": 5
}
