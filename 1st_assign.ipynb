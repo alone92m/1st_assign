{
 "cells": [
  {
   "cell_type": "markdown",
   "id": "6d141fb0",
   "metadata": {},
   "source": [
    "## 01) A company decided to give bonus of 5% to employee if his/her year of service is more than 5 years. Ask user for their salary and year of service and print the net bonus amount."
   ]
  },
  {
   "cell_type": "code",
   "execution_count": 3,
   "id": "cd51da03",
   "metadata": {},
   "outputs": [
    {
     "name": "stdout",
     "output_type": "stream",
     "text": [
      "Enter your Years of Service5\n",
      "Enter your Salary100000\n",
      "Your Bonus is 5000.0\n"
     ]
    }
   ],
   "source": [
    "service_year = int(input(\"Enter your Years of Service \"))\n",
    "if (service_year >= 5):\n",
    "    salary = int(input(\"Enter your Salary \"))\n",
    "    bonus = salary / 100 * 5\n",
    "    print(f\"Your Bonus is {bonus}\")\n",
    "else:\n",
    "    print(\"Sorry, You are not eligible for Bonus\")"
   ]
  },
  {
   "cell_type": "markdown",
   "id": "50036cda",
   "metadata": {},
   "source": [
    "## 2) Write a program to check whether a person is eligible for voting or not. (accept age from user) if age is greater than 17 eligible otherwise not eligible"
   ]
  },
  {
   "cell_type": "code",
   "execution_count": 5,
   "id": "068fdf0c",
   "metadata": {},
   "outputs": [
    {
     "name": "stdout",
     "output_type": "stream",
     "text": [
      "Enter your Age19\n",
      "You are eligible to Vote\n"
     ]
    }
   ],
   "source": [
    "age = int(input(\"Enter your Age \"))\n",
    "if age < 18:\n",
    "    print(\"You are not eligible to Vote\")\n",
    "else:\n",
    "    print(\"You are eligible to Vote\")"
   ]
  },
  {
   "cell_type": "markdown",
   "id": "b164ad86",
   "metadata": {},
   "source": [
    "## 3) Write a program to check whether a number entered by user is even or odd."
   ]
  },
  {
   "cell_type": "code",
   "execution_count": 7,
   "id": "dab19837",
   "metadata": {},
   "outputs": [
    {
     "name": "stdout",
     "output_type": "stream",
     "text": [
      "Enter a Number8\n",
      "Number is Even\n"
     ]
    }
   ],
   "source": [
    "nbr = int(input(\"Enter a Number \"))\n",
    "nbr = nbr % 2\n",
    "if nbr == 0:\n",
    "    print(\"Number is Even\")\n",
    "else:\n",
    "    print(\"Number is Odd\")"
   ]
  },
  {
   "cell_type": "markdown",
   "id": "57356420",
   "metadata": {},
   "source": [
    "## 4) Write a program to check whether a number is divisible by 7 or not. Show Answer"
   ]
  },
  {
   "cell_type": "code",
   "execution_count": 14,
   "id": "28f2abc5",
   "metadata": {},
   "outputs": [
    {
     "name": "stdout",
     "output_type": "stream",
     "text": [
      "Enter a Number70\n",
      "Number is divisible by 7\n"
     ]
    }
   ],
   "source": [
    "nbr = int(input(\"Enter a Number \"))\n",
    "nbr = nbr % 7\n",
    "if nbr == 0:\n",
    "    print(\"Number is divisible by 7\")\n",
    "else:\n",
    "    print(\"Number is not divisible by 7\")"
   ]
  },
  {
   "cell_type": "markdown",
   "id": "275ed0f1",
   "metadata": {},
   "source": [
    "## 14)A student will not be allowed to sit in exam if his/her attendence is less than 75%.\n",
    "## Take following input from user\n",
    "## Number of classes held\n",
    "## Number of classes attended.\n",
    "## And print\n",
    "## percentage of class attended\n",
    "## Is student is allowed to sit in exam or not"
   ]
  },
  {
   "cell_type": "code",
   "execution_count": 1,
   "id": "440ba3cf",
   "metadata": {},
   "outputs": [
    {
     "name": "stdout",
     "output_type": "stream",
     "text": [
      "Enter Number of classes held: 80\n",
      "Number of classes attended: 70\n",
      "Your attendance percentage is: 87.5%\n",
      "You are allowed to sit in exam.\n"
     ]
    }
   ],
   "source": [
    "class_held = int(input(\"Enter Number of classes held: \"))\n",
    "class_attended = int(input(\"Number of classes attended: \"))\n",
    "\n",
    "attendpercentage = (class_attended / class_held) * 100\n",
    "\n",
    "print(f\"Your attendance percentage is: {attendpercentage}%\")\n",
    "\n",
    "if attendpercentage >= 75:\n",
    "    print(\"You are allowed to sit in exam.\")\n",
    "else:\n",
    "    print(\"You are not allowed to sit in exam.\")"
   ]
  },
  {
   "cell_type": "markdown",
   "id": "dd6822c5",
   "metadata": {},
   "source": [
    "## 15) Modify the above question to allow student to sit if he/she has medical cause. Ask user if he/she has medical cause or not ( 'Y' or 'N' ) and print accordingly.\n"
   ]
  },
  {
   "cell_type": "code",
   "execution_count": 8,
   "id": "48f9e25b",
   "metadata": {},
   "outputs": [
    {
     "name": "stdout",
     "output_type": "stream",
     "text": [
      "Enter Number of classes held: 80\n",
      "Number of classes attended: 40\n",
      "Your attendance percentage is: 50.0%\n",
      "Do you have any medical issue:k\n",
      "Please type y/n\n"
     ]
    }
   ],
   "source": [
    "class_held = int(input(\"Enter Number of classes held: \"))\n",
    "class_attended = int(input(\"Number of classes attended: \"))\n",
    "\n",
    "attendpercentage = (class_attended / class_held) * 100\n",
    "\n",
    "print(f\"Your attendance percentage is: {attendpercentage}%\")\n",
    "\n",
    "if attendpercentage >= 75:\n",
    "    print(\"You are allowed to sit in exam.\")\n",
    "else:\n",
    "    reson = input(\"Do you have any medical issue:\")\n",
    "    if reson == \"y\":\n",
    "        print(\"You are allowed to sit in exam.\")\n",
    "    elif reson == \"n\":\n",
    "        print(\"You are not allowed to sit in exam.\")\n",
    "    else:\n",
    "        print(\"Error! Run the program again and just type y/n\")"
   ]
  },
  {
   "cell_type": "markdown",
   "id": "67d7429d",
   "metadata": {},
   "source": [
    "## 16) Write a program to check if a year is leap year or not.\n",
    "## If a year is divisible by 4 then it is leap year but if the year is century year like 2000, 1900, 2100 then it must be divisible by 400."
   ]
  },
  {
   "cell_type": "code",
   "execution_count": 9,
   "id": "d3021ba1",
   "metadata": {},
   "outputs": [
    {
     "name": "stdout",
     "output_type": "stream",
     "text": [
      "Enter a year: 60\n",
      "60 is a leap year.\n"
     ]
    }
   ],
   "source": [
    "year = int(input(\"Enter a year: \"))\n",
    "\n",
    "if year % 4 == 0:\n",
    "    if year % 100 == 0:\n",
    "        if year % 400 == 0:\n",
    "            print(f\"{year} is a leap year.\")\n",
    "        else:\n",
    "            print(f\"{year} is not a leap year.\")\n",
    "    else:\n",
    "        print(f\"{year} is a leap year.\")\n",
    "else:\n",
    "    print(f\"{year} is not a leap year.\")"
   ]
  },
  {
   "cell_type": "markdown",
   "id": "d644e94c",
   "metadata": {},
   "source": [
    "## 17) Ask user to enter age, gender ( M or F ), marital status ( Y or N ) and then using following rules print their place of service.\n",
    "## if employee is female, then she will work only in urban areas.\n",
    "## if employee is a male and age is in between 20 to 40 then he may work in anywhere\n",
    "## if employee is male and age is in between 40 t0 60 then he will work in urban areas only.\n",
    "## And any other input of age should print \"ERROR\""
   ]
  },
  {
   "cell_type": "code",
   "execution_count": 1,
   "id": "49e7490f",
   "metadata": {},
   "outputs": [
    {
     "name": "stdout",
     "output_type": "stream",
     "text": [
      "Enter your Gander: F\n",
      "you can work only in urban areas\n"
     ]
    }
   ],
   "source": [
    "gander = input(\"Enter your Gander: \")\n",
    "\n",
    "if gander == \"F\":\n",
    "    print (\"you can work only in urban areas\")\n",
    "elif gander == \"M\":\n",
    "    age = int(input(\"Enter Your Age: \"))\n",
    "    if age > 60:\n",
    "        print(\"Error!\")\n",
    "    elif age >= 40:\n",
    "        print(\" you can work in urban areas only\")\n",
    "    elif age >= 20:\n",
    "        print(\"you can work in anywhere\")\n",
    "    else:\n",
    "        print(\"Error!\")\n",
    "else:\n",
    "     print(\"Error! Run the program again and just type F/M\")"
   ]
  },
  {
   "cell_type": "markdown",
   "id": "29f5903a",
   "metadata": {},
   "source": [
    "## 6) Write a program to calculate the electricity bill (accept number of unit from user) according to the following criteria : Unit Price\n",
    "## uptp 100 units no charge Next 200 units Rs 5 per unit After 200 units Rs 10 per unit (For example if input unit is 350 than total bill amount is\n",
    "## Rs.3500 (For example if input unit is 97 than total bill amount is Rs.0 (For example if input unit is 150 than total bill amount is Rs.750"
   ]
  },
  {
   "cell_type": "code",
   "execution_count": null,
   "id": "5e949c9a",
   "metadata": {},
   "outputs": [
    {
     "name": "stdout",
     "output_type": "stream",
     "text": [
      "Enter Single unit price: 80\n",
      "Enter total unit: 60\n",
      "4800\n"
     ]
    }
   ],
   "source": [
    "price = int(input(\"Enter Single unit price: \"))\n",
    "unit = int(input(\"Enter total unit: \"))\n",
    "\n",
    "if unit <= 100:\n",
    "    total = unit * price\n",
    "    print(total)\n",
    "elif unit <= 200:\n",
    "    tax = price + 5\n",
    "    total = unit * tax\n",
    "    print(total)\n",
    "else:\n",
    "    tax = price + 10\n",
    "    total = unit * tax\n",
    "    print(total)"
   ]
  }
 ],
 "metadata": {
  "kernelspec": {
   "display_name": "Python 3 (ipykernel)",
   "language": "python",
   "name": "python3"
  },
  "language_info": {
   "codemirror_mode": {
    "name": "ipython",
    "version": 3
   },
   "file_extension": ".py",
   "mimetype": "text/x-python",
   "name": "python",
   "nbconvert_exporter": "python",
   "pygments_lexer": "ipython3",
   "version": "3.11.5"
  }
 },
 "nbformat": 4,
 "nbformat_minor": 5
}
